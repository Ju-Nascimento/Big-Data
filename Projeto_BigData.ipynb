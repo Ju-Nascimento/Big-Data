{
  "nbformat": 4,
  "nbformat_minor": 0,
  "metadata": {
    "colab": {
      "provenance": []
    },
    "kernelspec": {
      "name": "python3",
      "display_name": "Python 3"
    },
    "language_info": {
      "name": "python"
    }
  },
  "cells": [
    {
      "cell_type": "markdown",
      "source": [
        "**Este código configura o ambiente para rodar o Apache Spark no Google Colab, instalando o Java necessário, baixando e extraindo o Spark, e configurando variáveis de ambiente. Também instala as bibliotecas findspark e pyspark, essenciais para inicializar e utilizar o Spark no Python, preparando para o processamento de dados com PySpark.**"
      ],
      "metadata": {
        "id": "6P7F12uYX-nN"
      }
    },
    {
      "cell_type": "code",
      "execution_count": 1,
      "metadata": {
        "colab": {
          "base_uri": "https://localhost:8080/"
        },
        "id": "yeDb6zd-SxxA",
        "outputId": "0a2f74b8-4d11-4d6b-deab-abcf44b0e232"
      },
      "outputs": [
        {
          "output_type": "stream",
          "name": "stdout",
          "text": [
            "--2024-11-04 17:50:00--  https://raw.githubusercontent.com/Ju-Nascimento/Big_Data/refs/heads/main/Dados.csv\n",
            "Resolving raw.githubusercontent.com (raw.githubusercontent.com)... 185.199.109.133, 185.199.108.133, 185.199.110.133, ...\n",
            "Connecting to raw.githubusercontent.com (raw.githubusercontent.com)|185.199.109.133|:443... connected.\n",
            "HTTP request sent, awaiting response... 200 OK\n",
            "Length: 924528 (903K) [text/plain]\n",
            "Saving to: ‘Dados.csv’\n",
            "\n",
            "Dados.csv           100%[===================>] 902.86K  --.-KB/s    in 0.07s   \n",
            "\n",
            "2024-11-04 17:50:00 (12.5 MB/s) - ‘Dados.csv’ saved [924528/924528]\n",
            "\n",
            "Requirement already satisfied: pyspark in /usr/local/lib/python3.10/dist-packages (3.5.3)\n",
            "Requirement already satisfied: py4j==0.10.9.7 in /usr/local/lib/python3.10/dist-packages (from pyspark) (0.10.9.7)\n"
          ]
        }
      ],
      "source": [
        "!apt-get install openjdk-8-jdk-headless -qq> /dev/null\n",
        "!wget -q https://archive.apache.org/dist/spark/spark-3.1.2/spark-3.1.2-bin-hadoop2.7.tgz\n",
        "!tar xf spark-3.1.2-bin-hadoop2.7.tgz\n",
        "!wget \"https://raw.githubusercontent.com/Ju-Nascimento/Big_Data/refs/heads/main/Dados.csv\"\n",
        "!mkdir CSV\n",
        "import os\n",
        "os.environ[\"JAVA_HOME\"] = \"/usr/lib/jvm/java-8-openjdk-amd64\"\n",
        "os.environ[\"SPARK_HOME\"] =\"/content/spark-3.1.2-bin-hadoop2.7\"\n",
        "!pip install -q findspark\n",
        "!pip install pyspark\n",
        "import findspark\n",
        "findspark.init()\n"
      ]
    },
    {
      "cell_type": "markdown",
      "source": [
        "**Inicializando uma sessão do Spark para processamento local e lendo o arquivo Dados.csv em um DataFrame do PySpark, inferindo automaticamente os tipos de dados e considerando a primeira linha como cabeçalho. Ele, então, exibe o conteúdo do DataFrame carregado.**"
      ],
      "metadata": {
        "id": "yggOax-9YtVJ"
      }
    },
    {
      "cell_type": "code",
      "source": [
        "from pyspark.sql import SparkSession\n",
        "\n",
        "spark = SparkSession.builder \\\n",
        "    .appName(\"MyApp\") \\\n",
        "    .master(\"local[*]\") \\\n",
        "    .getOrCreate()\n",
        "\n",
        "file_path = \"/content/Dados.csv\"\n",
        "\n",
        "# Ler o arquivo CSV\n",
        "df = spark.read.csv(file_path, header=True, inferSchema=True, encoding='ISO-8859-1')\n",
        "df.show()"
      ],
      "metadata": {
        "colab": {
          "base_uri": "https://localhost:8080/"
        },
        "id": "UCvB1eK-TbIr",
        "outputId": "290bf851-4982-43ee-821d-02a429282803"
      },
      "execution_count": 4,
      "outputs": [
        {
          "output_type": "stream",
          "name": "stdout",
          "text": [
            "+--------------------+--------------------+--------------+------------+------------+-------------+-----------+---------------+----------------------+----------------------+------------------+-------------+-------------+------------+------------+------------+----------------------+--------------------------+-------------+--------------+---------------------+---------------------+---------------------+---------------+----------------------+------------------+-------------+--------------+-----------+\n",
            "|               Track|          Album Name|        Artist|Release Date|        ISRC|All Time Rank|Track Score|Spotify Streams|Spotify Playlist Count|Spotify Playlist Reach|Spotify Popularity|YouTube Views|YouTube Likes|TikTok Posts|TikTok Likes|TikTok Views|YouTube Playlist Reach|Apple Music Playlist Count|AirPlay Spins|SiriusXM Spins|Deezer Playlist Count|Deezer Playlist Reach|Amazon Playlist Count|Pandora Streams|Pandora Track Stations|Soundcloud Streams|Shazam Counts|Explicit Track|Unnamed: 28|\n",
            "+--------------------+--------------------+--------------+------------+------------+-------------+-----------+---------------+----------------------+----------------------+------------------+-------------+-------------+------------+------------+------------+----------------------+--------------------------+-------------+--------------+---------------------+---------------------+---------------------+---------------+----------------------+------------------+-------------+--------------+-----------+\n",
            "| MILLION DOLLAR BABY|Million Dollar Ba...| Tommy Richman|  26/04/2024|QM24S2402528|            1|      725,4|      390470936|                 30716|             196631588|              92.0|     84274754|      1713126|     5767700|   651565900|  5332281936|             150597040|                     210.0|        40975|         684.0|                 62.0|             17598718|                114.0|       18004655|                 22931|           4818457|      2669262|           0.0|       null|\n",
            "|         Not Like Us|         Not Like Us|Kendrick Lamar|  04/05/2024|USUG12400910|            2|      545,9|      323703884|                 28113|             174597137|              92.0|    116347040|      3486739|      674700|    35223547|   208339025|             156380351|                     188.0|        40778|           3.0|                 67.0|             10422430|                111.0|        7780028|                 28444|           6623075|      1118279|           1.0|       null|\n",
            "|i like the way yo...|I like the way yo...|       Artemas|  19/03/2024|QZJ842400387|            3|      538,4|      601309283|                 54331|             211607669|              92.0|    122599116|      2228730|     3025400|   275154237|  3369120610|             373784955|                     190.0|        74333|         536.0|                136.0|             36321847|                172.0|        5022621|                  5639|           7208651|      5285340|           0.0|       null|\n",
            "|             Flowers|    Flowers - Single|   Miley Cyrus|  12/01/2023|USSM12209777|            4|      444,9|     2031280633|                269802|             136569078|              85.0|   1096100899|     10629796|     7189811|  1078757968| 14603725994|            3351188582|                     394.0|      1474799|        2182.0|                264.0|             24684248|                210.0|      190260277|                203384|              null|     11822942|           0.0|       null|\n",
            "|             Houdini|             Houdini|        Eminem|  31/05/2024|USUG12403398|            5|      423,3|      107034922|                  7223|             151469874|              88.0|     77373957|      3670188|       16400|        null|        null|             112763851|                     182.0|        12185|           1.0|                 82.0|             17660624|                105.0|        4493884|                  7006|            207179|       457017|           1.0|       null|\n",
            "|         Lovin On Me|         Lovin On Me|   Jack Harlow|  10/11/2023|USAT22311371|            6|      410,1|      670665438|                105892|             175421034|              83.0|    131148091|      1392593|     4202367|   214943489|  2938686633|            2867222632|                     138.0|       522042|        4654.0|                 86.0|             17167254|                152.0|      138529362|                 50982|           9438601|      4517131|           1.0|       null|\n",
            "|    Beautiful Things|    Beautiful Things|  Benson Boone|  18/01/2024|USWB12307016|            7|      407,2|      900158751|                 73118|             201585714|              86.0|    308723145|      4120760|        null|    29584940|   534915313|            4601579812|                     280.0|       383478|         429.0|                168.0|             48197850|                154.0|       65447476|                 57372|              null|      9990302|           0.0|       null|\n",
            "|           Gata Only|           Gata Only|    FloyyMenor|  02/02/2024|QZL382406049|            8|      375,8|      675079153|                 40094|             211236940|              92.0|    228382568|      1439495|     3500000|   338546668|  3804584163|            2112581620|                     160.0|        17221|          30.0|                 87.0|             33245595|                 53.0|        3372428|                  5762|              null|      6063523|           1.0|       null|\n",
            "|BAND4BAND (feat. ...|BAND4BAND (feat. ...|   Central Cee|  23/05/2024|USSM12404354|           10|      330,6|       90676573|                 10400|             184199419|              86.0|     32735244|       988682|      325800|   121574500|   974656200|             174706874|                     191.0|         3823|         117.0|                 78.0|             10800098|                 92.0|        1005626|                   842|           3679709|       666302|           1.0|       null|\n",
            "|I Had Some Help (...|     I Had Some Help|   Post Malone|  10/05/2024|USUM72404990|           11|      322,1|      250080413|                 16219|             168766158|              91.0|     32229063|       550191|        null|      184500|     2100000|             327130768|                     157.0|        62312|          71.0|                 60.0|             12009073|                114.0|       23155471|                 21172|           1594605|       963413|           1.0|       null|\n",
            "|            The Door|            The Door|   Teddy Swims|  14/06/2024|USWB12402486|           12|      320,2|      111155129|                     2|                263767|              null|         null|         null|        null|        null|        null|                  null|                      null|         null|          null|                 null|                 null|                  2.0|           null|                  null|              null|         null|           1.0|       null|\n",
            "|               LUNCH|HIT ME HARD AND SOFT| Billie Eilish|  17/05/2024|USUM72401991|           13|      316,3|      221636195|                 13800|             197280692|              92.0|     40022524|      1307290|      195300|    45889000|   360017000|             342107131|                     244.0|        41344|          45.0|                138.0|             38243636|                163.0|        1354692|                  1219|           1313357|       450344|           0.0|       null|\n",
            "|           Like That|  WE DON'T TRUST YOU|        Future|  22/03/2024|USSM12402041|           14|      308,2|      355186436|                 43025|             108168634|              88.0|     98081493|      1456177|        null|        null|        null|             174491415|                     153.0|        90237|           3.0|                 55.0|              3001826|                109.0|       26252264|                 18364|          12038034|      1963314|           1.0|       null|\n",
            "|      bathroom floor|      bathroom floor|Kids With Buns|  07/10/2022|NLC242100307|           15|      301,6|         297185|                   277|                 24445|              12.0|   6736502312|     16785489|           3|        1088|       22234|                  null|                       1.0|         1057|          null|                 null|                 null|                 null|           null|                  null|              null|         3288|           0.0|       null|\n",
            "|                LALA|       LALA - Single|   Myke Towers|  22/03/2023|USWL12300002|           16|      299,9|      925655569|                103605|              79944921|              79.0|    934302031|      4294166|    11054500|   521725116|  7499234052|            2042145659|                      94.0|        92231|         228.0|                 60.0|              5633435|                 83.0|       12171026|                 13242|            871978|      2765808|           1.0|       null|\n",
            "|Fortnight (feat. ...|THE TORTURED POET...|  Taylor Swift|  18/04/2024|USUG12401028|           17|      297,6|      395433400|                 12784|             177932568|              89.0|    104673836|      2484083|      139300|    25348800|   207317000|             268893710|                     221.0|       129968|           3.0|                 99.0|             37988531|                134.0|        9961769|                 13437|            377734|      1210029|           0.0|       null|\n",
            "|              greedy|              greedy|    Tate McRae|  14/09/2023|USRC12301932|           18|      293,7|     1258569694|                105218|             198845580|              87.0|    141646818|      1514837|     2294429|   419319161|  5456156211|            2667285437|                     207.0|       667329|        3310.0|                188.0|             21788568|                150.0|       44850379|                 12270|              null|      6973652|           1.0|       null|\n",
            "|                BLUE|HIT ME HARD AND SOFT| Billie Eilish|  17/05/2024|USUM72401996|           19|      292,6|       91272461|                  6499|              52287548|              86.0|     16038053|       569377|      941900|   119740900|  1225345800|               5839168|                      76.0|          181|           1.0|                 24.0|              5054005|                 33.0|         283089|                   162|            975891|       257661|           0.0|       null|\n",
            "|           As It Was|           As It Was|  Harry Styles|  31/03/2022|USSM12200612|           20|        292|     3301814535|                407119|             169783402|              87.0|    800899315|      9101589|     2755903|  1633970617| 15405881843|            7289707052|                     455.0|      1777811|        4909.0|                330.0|             12907852|                189.0|      132624772|                 79909|              null|     14967379|           0.0|       null|\n",
            "|  Paint The Town Red|  Paint The Town Red|      Doja Cat|  04/08/2023|USRC12300907|           21|      290,5|     1065399331|                170890|             121712197|              78.0|    240970670|      2749668|     3091732|   652428798|  7095564106|            1063591802|                     158.0|       400899|         273.0|                143.0|             13718632|                146.0|       70291476|                 49111|              null|      7559816|           1.0|       null|\n",
            "+--------------------+--------------------+--------------+------------+------------+-------------+-----------+---------------+----------------------+----------------------+------------------+-------------+-------------+------------+------------+------------+----------------------+--------------------------+-------------+--------------+---------------------+---------------------+---------------------+---------------+----------------------+------------------+-------------+--------------+-----------+\n",
            "only showing top 20 rows\n",
            "\n"
          ]
        }
      ]
    },
    {
      "cell_type": "markdown",
      "source": [
        "**Convertendo e limpando colunas para os tipos corretos e removendo caracteres indesejados. E tambem selecionando apenas as colunas que iremos utilizar. Em seguida, ele exibe o esquema final do DataFrame para confirmar as alterações feitas.**"
      ],
      "metadata": {
        "id": "xG5X_ftJZEPQ"
      }
    },
    {
      "cell_type": "code",
      "source": [
        "\n",
        "from pyspark.sql.functions import col, regexp_replace, to_date\n",
        "\n",
        "def clean_and_convert(df, column_name, target_type):\n",
        "    if target_type == \"int\":\n",
        "        df = df.withColumn(column_name, regexp_replace(column_name, \"[^0-9]\", \"\"))\n",
        "        df = df.withColumn(column_name, col(column_name).cast(\"int\"))\n",
        "    elif target_type == \"double\":\n",
        "        df = df.withColumn(column_name, regexp_replace(column_name, \"[^0-9.]\", \"\"))\n",
        "        df = df.withColumn(column_name, col(column_name).cast(\"double\"))\n",
        "    return df\n",
        "\n",
        "df = spark.read.csv(file_path, header=True, inferSchema=True)\n",
        "\n",
        "df = df.withColumn(\"Release Date\", to_date(col(\"Release Date\"), \"dd/MM/yyyy\"))\n",
        "\n",
        "columns_to_convert = {\n",
        "    \"Spotify Streams\": \"int\", \"Spotify Playlist Count\": \"int\",\n",
        "    \"Spotify Playlist Reach\": \"int\", \"Spotify Popularity\": \"double\",\n",
        "    \"YouTube Views\": \"int\", \"YouTube Likes\": \"int\", \"TikTok Posts\": \"int\",\n",
        "    \"TikTok Likes\": \"int\", \"TikTok Views\": \"int\", \"YouTube Playlist Reach\": \"int\",\n",
        "    \"Apple Music Playlist Count\": \"double\", \"AirPlay Spins\": \"int\",\n",
        "    \"SiriusXM Spins\": \"double\", \"Deezer Playlist Count\": \"double\",\n",
        "    \"Deezer Playlist Reach\": \"int\", \"Amazon Playlist Count\": \"double\",\n",
        "    \"Pandora Streams\": \"int\", \"Pandora Track Stations\": \"int\",\n",
        "    \"Soundcloud Streams\": \"int\", \"Shazam Counts\": \"int\",\n",
        "    \"Explicit Track\": \"int\"\n",
        "}\n",
        "\n",
        "for column, target_type in columns_to_convert.items():\n",
        "    df = clean_and_convert(df, column, target_type)\n",
        "\n",
        "dataframe = df.select(\n",
        "    'Track', 'Album Name', 'Artist', 'Release Date',\n",
        "    'Spotify Streams', 'Spotify Popularity',\n",
        "    'Spotify Playlist Count', 'YouTube Views',\n",
        "    'YouTube Likes', 'TikTok Posts', 'TikTok Likes',\n",
        "    'TikTok Views', 'YouTube Playlist Reach',\n",
        "    'Explicit Track'\n",
        ")\n",
        "\n",
        "dataframe = dataframe.filter(col(\"Artist\") != \"MUSIC LAB JPN\")\n",
        "\n",
        "dataframe.printSchema()\n"
      ],
      "metadata": {
        "colab": {
          "base_uri": "https://localhost:8080/"
        },
        "id": "PoQCDdekThzs",
        "outputId": "fd3e3768-48a5-4d33-df07-f6c6b0fe5e56"
      },
      "execution_count": 5,
      "outputs": [
        {
          "output_type": "stream",
          "name": "stdout",
          "text": [
            "root\n",
            " |-- Track: string (nullable = true)\n",
            " |-- Album Name: string (nullable = true)\n",
            " |-- Artist: string (nullable = true)\n",
            " |-- Release Date: date (nullable = true)\n",
            " |-- Spotify Streams: integer (nullable = true)\n",
            " |-- Spotify Popularity: double (nullable = true)\n",
            " |-- Spotify Playlist Count: integer (nullable = true)\n",
            " |-- YouTube Views: integer (nullable = true)\n",
            " |-- YouTube Likes: integer (nullable = true)\n",
            " |-- TikTok Posts: integer (nullable = true)\n",
            " |-- TikTok Likes: integer (nullable = true)\n",
            " |-- TikTok Views: integer (nullable = true)\n",
            " |-- YouTube Playlist Reach: integer (nullable = true)\n",
            " |-- Explicit Track: integer (nullable = true)\n",
            "\n"
          ]
        }
      ]
    },
    {
      "cell_type": "markdown",
      "source": [
        "**Agrupa o DataFrame por artista, calcula a soma total dos streams em plataformas como Spotify, TikTok e YouTube, e seleciona os 10 artistas com o maior total de streams. Em seguida, exibe os resultados e salva o DataFrame como um arquivo CSV.**"
      ],
      "metadata": {
        "id": "01eu4WPvaEd7"
      }
    },
    {
      "cell_type": "code",
      "source": [
        "from pyspark.sql import functions as F\n",
        "\n",
        "combined_data = dataframe.groupBy(\"Artist\") \\\n",
        "    .agg(\n",
        "        F.sum(\"Spotify Streams\").alias(\"Total Spotify Streams\"),\n",
        "        F.sum(\"TikTok Views\").alias(\"Total TikTok Views\"),\n",
        "        F.sum(\"YouTube Views\").alias(\"Total YouTube Views\")\n",
        "    ) \\\n",
        "    .orderBy(F.desc(\"Total Spotify Streams\")).limit(10)\n",
        "\n",
        "print(\"Artistas com total de streams por plataforma:\")\n",
        "combined_data.show(10)\n",
        "\n",
        "combined_data.toPandas().to_csv(\"/content/CSV/top_artistas.csv\", index=False)\n"
      ],
      "metadata": {
        "colab": {
          "base_uri": "https://localhost:8080/"
        },
        "id": "EQXLMiIRUHJW",
        "outputId": "c8e01873-692d-4c1f-d1c4-9e032987e912"
      },
      "execution_count": 6,
      "outputs": [
        {
          "output_type": "stream",
          "name": "stdout",
          "text": [
            "Artistas com total de streams por plataforma:\n",
            "+-------------+---------------------+------------------+-------------------+\n",
            "|       Artist|Total Spotify Streams|Total TikTok Views|Total YouTube Views|\n",
            "+-------------+---------------------+------------------+-------------------+\n",
            "|    Bad Bunny|          36224177916|       19963693476|        24676183363|\n",
            "| Taylor Swift|          32282524032|       16051926860|        12893408403|\n",
            "|        Drake|          28890155397|       13811991555|        11475001911|\n",
            "|   The Weeknd|          24803516269|       10857478942|        13401115700|\n",
            "|Ariana Grande|          22583126267|        8189095927|        18072869586|\n",
            "|  Post Malone|          17337330725|        6156019745|         8310001192|\n",
            "|       Eminem|          16683944401|        3335273837|        11326798199|\n",
            "|   Bruno Mars|          16225111478|        3933024948|         7161264150|\n",
            "|     Maroon 5|          16000309235|        4454500923|         9690400075|\n",
            "|     Doja Cat|          15856288522|        3662836060|         5938928297|\n",
            "+-------------+---------------------+------------------+-------------------+\n",
            "\n"
          ]
        }
      ]
    },
    {
      "cell_type": "markdown",
      "source": [
        "**Agrupa o DataFrame por nome do álbum e artista, calcula a soma total dos streams no Spotify, e seleciona os 10 álbuns com o maior total de streams. Em seguida, exibe os resultados e salva o DataFrame como um arquivo CSV**"
      ],
      "metadata": {
        "id": "n4eKRTLXasnD"
      }
    },
    {
      "cell_type": "code",
      "source": [
        "from pyspark.sql.functions import col\n",
        "\n",
        "albuns_mais_ouvidos = dataframe.groupBy(\"Album Name\", \"Artist\") \\\n",
        "                        .sum(\"Spotify Streams\") \\\n",
        "                        .withColumnRenamed(\"sum(Spotify Streams)\", \"Total Streams\") \\\n",
        "                        .orderBy(col(\"Total Streams\").desc()) \\\n",
        "                        .limit(10)\n",
        "\n",
        "print(\"Top 10 Albuns mais ouvidos do Spotify\")\n",
        "albuns_mais_ouvidos.show(truncate=False)\n",
        "\n",
        "albuns_mais_ouvidos.toPandas().to_csv(\"/content/CSV/top_albuns.csv\", index=False)\n"
      ],
      "metadata": {
        "colab": {
          "base_uri": "https://localhost:8080/"
        },
        "id": "aH5TfSCaUUTJ",
        "outputId": "3e7bbc51-5bd7-4887-d4d5-048662f21f01"
      },
      "execution_count": 7,
      "outputs": [
        {
          "output_type": "stream",
          "name": "stdout",
          "text": [
            "Top 10 Albuns mais ouvidos do Spotify\n",
            "+------------------------------------+--------------+-------------+\n",
            "|Album Name                          |Artist        |Total Streams|\n",
            "+------------------------------------+--------------+-------------+\n",
            "|Un Verano Sin Ti                    |Bad Bunny     |13179383985  |\n",
            "|Papercuts                           |Linkin Park   |6167890522   |\n",
            "|1989 (Deluxe)                       |Taylor Swift  |6022767764   |\n",
            "|YHLQMDLG                            |Bad Bunny     |5406717465   |\n",
            "|SOUR                                |Olivia Rodrigo|5281422618   |\n",
            "|Midnights                           |Taylor Swift  |5263452087   |\n",
            "|?                                   |XXXTENTACION  |4797350312   |\n",
            "|17                                  |XXXTENTACION  |4562903052   |\n",
            "|ANTI (Deluxe)                       |Rihanna       |4363405083   |\n",
            "|Shoot For The Stars Aim For The Moon|Pop Smoke     |4327097637   |\n",
            "+------------------------------------+--------------+-------------+\n",
            "\n"
          ]
        }
      ]
    },
    {
      "cell_type": "markdown",
      "source": [
        "**Agrupa o DataFrame por artista, conta o número de músicas de cada artista e calcula a média de popularidade no Spotify, arredondando para uma casa decimal. Filtra para incluir apenas artistas com 7 ou mais músicas e seleciona os 10 artistas com a maior média de popularidade.**"
      ],
      "metadata": {
        "id": "7uBwggVlbOOX"
      }
    },
    {
      "cell_type": "code",
      "source": [
        "from pyspark.sql.functions import col, count, avg, round\n",
        "\n",
        "media = dataframe.groupBy(\"Artist\") \\\n",
        "          .agg(\n",
        "          count(\"Track\").alias(\"N° de Musicas\"),\n",
        "          round(avg(col(\"Spotify Popularity\")), 1).alias(\"Media de Popularidade\")\n",
        "                               ) \\\n",
        "          .filter(col(\"N° de Musicas\") >= 7) \\\n",
        "          .orderBy(col(\"Media de Popularidade\").desc()) \\\n",
        "          .limit(10)\n",
        "\n",
        "media.show(truncate=False)\n",
        "\n",
        "media.toPandas().to_csv(\"/content/CSV/media.csv\", index=False)\n"
      ],
      "metadata": {
        "colab": {
          "base_uri": "https://localhost:8080/"
        },
        "id": "4CzXy7veUc0K",
        "outputId": "d650c73e-4f70-4e2a-8de7-4acc22c86200"
      },
      "execution_count": 8,
      "outputs": [
        {
          "output_type": "stream",
          "name": "stdout",
          "text": [
            "+-----------------+-------------+---------------------+\n",
            "|Artist           |N° de Musicas|Media de Popularidade|\n",
            "+-----------------+-------------+---------------------+\n",
            "|Sabrina Carpenter|7            |79.8                 |\n",
            "|Tate McRae       |8            |78.3                 |\n",
            "|Zach Bryan       |11           |78.3                 |\n",
            "|Billie Eilish    |28           |77.5                 |\n",
            "|Eminem           |15           |76.0                 |\n",
            "|Kendrick Lamar   |17           |74.9                 |\n",
            "|Taylor Swift     |63           |74.8                 |\n",
            "|Luke Combs       |13           |74.8                 |\n",
            "|OneRepublic      |7            |74.8                 |\n",
            "|Natanael Cano    |8            |74.6                 |\n",
            "+-----------------+-------------+---------------------+\n",
            "\n"
          ]
        }
      ]
    },
    {
      "cell_type": "markdown",
      "source": [
        "**Filtra músicas lançadas de 2020 a 2024 no DataFrame, agrupando por faixa e artista para calcular a soma total dos streams no Spotify. Para cada ano, obtém as cinco músicas mais ouvidas e exibe os resultados, salvando-os como arquivos CSV correspondentes. As etapas incluem configurar a política de parsing de tempo, filtrar dados por ano e agrupar os resultados por faixa e artista.**"
      ],
      "metadata": {
        "id": "dSYPd_3mb2vZ"
      }
    },
    {
      "cell_type": "code",
      "source": [
        "from pyspark.sql import functions as F\n",
        "\n",
        "spark.conf.set(\"spark.sql.legacy.timeParserPolicy\", \"LEGACY\")\n",
        "\n",
        "musicas_pos_2024 = dataframe.filter(F.col(\"Release Date\") > F.lit(\"2024-01-01\"))\n",
        "\n",
        "musicas_mais_ouvidas = musicas_pos_2024.groupBy(\"Track\", \"Artist\") \\\n",
        "    .agg(F.sum(\"Spotify Streams\").alias(\"Total Spotify Streams\")) \\\n",
        "    .orderBy(F.desc(\"Total Spotify Streams\")) \\\n",
        "    .limit(5)\n",
        "\n",
        "print(\"Musicas lançadas em 2024 mais ouvidas:\")\n",
        "musicas_mais_ouvidas.show(truncate=False)\n",
        "musicas_mais_ouvidas.toPandas().to_csv(\"/content/CSV/2024.csv\", index=False)\n",
        "\n",
        "musicas_2023 = dataframe.filter(\n",
        "    (F.col(\"Release Date\") >= F.lit(\"2023-01-01\")) & (F.col(\"Release Date\") <= F.lit(\"2023-12-31\"))\n",
        ")\n",
        "\n",
        "musicas_mais_ouvidas_2023 = musicas_2023.groupBy(\"Track\", \"Artist\") \\\n",
        "    .agg(F.sum(\"Spotify Streams\").alias(\"Total Spotify Streams\")) \\\n",
        "    .orderBy(F.desc(\"Total Spotify Streams\")) \\\n",
        "    .limit(5)\n",
        "\n",
        "print(\"Musicas lançadas em 2023 mais ouvidas:\")\n",
        "musicas_mais_ouvidas_2023.show(truncate=False)\n",
        "musicas_mais_ouvidas_2023.toPandas().to_csv(\"/content/CSV/2023.csv\", index=False)\n",
        "\n",
        "musicas_2022 = dataframe.filter(\n",
        "    (F.col(\"Release Date\") >= F.lit(\"2022-01-01\")) & (F.col(\"Release Date\") <= F.lit(\"2022-12-31\"))\n",
        ")\n",
        "\n",
        "musicas_mais_ouvidas_2022 = musicas_2022.groupBy(\"Track\", \"Artist\") \\\n",
        "    .agg(F.sum(\"Spotify Streams\").alias(\"Total Spotify Streams\")) \\\n",
        "    .orderBy(F.desc(\"Total Spotify Streams\")) \\\n",
        "    .limit(5)\n",
        "\n",
        "print(\"Musicas lançadas em 2022 mais ouvidas:\")\n",
        "musicas_mais_ouvidas_2022.show(truncate=False)\n",
        "musicas_mais_ouvidas_2022.toPandas().to_csv(\"/content/CSV/2022.csv\", index=False)\n",
        "\n",
        "\n",
        "musicas_2021 = dataframe.filter(\n",
        "    (F.col(\"Release Date\") >= F.lit(\"2021-01-01\")) & (F.col(\"Release Date\") <= F.lit(\"2021-12-31\"))\n",
        ")\n",
        "\n",
        "musicas_mais_ouvidas_2021 = musicas_2021.groupBy(\"Track\", \"Artist\") \\\n",
        "    .agg(F.sum(\"Spotify Streams\").alias(\"Total Spotify Streams\")) \\\n",
        "    .orderBy(F.desc(\"Total Spotify Streams\")) \\\n",
        "    .limit(5)\n",
        "\n",
        "\n",
        "print(\"Musicas lançadas em 2021 mais ouvidas:\")\n",
        "musicas_mais_ouvidas_2021.show(truncate=False)\n",
        "musicas_mais_ouvidas_2021.toPandas().to_csv(\"/content/CSV/2021.csv\", index=False)\n",
        "\n",
        "\n",
        "musicas_2020 = dataframe.filter(\n",
        "    (F.col(\"Release Date\") >= F.lit(\"2020-01-01\")) & (F.col(\"Release Date\") <= F.lit(\"2020-12-31\"))\n",
        ")\n",
        "\n",
        "musicas_mais_ouvidas_2020 = musicas_2020.groupBy(\"Track\", \"Artist\") \\\n",
        "    .agg(F.sum(\"Spotify Streams\").alias(\"Total Spotify Streams\")) \\\n",
        "    .orderBy(F.desc(\"Total Spotify Streams\")) \\\n",
        "    .limit(5)\n",
        "\n",
        "print(\"Musicas lançadas em 2020 mais ouvidas:\")\n",
        "musicas_mais_ouvidas_2020.show(truncate=False)\n",
        "musicas_mais_ouvidas_2020.toPandas().to_csv(\"/content/CSV/2020.csv\", index=False)\n"
      ],
      "metadata": {
        "colab": {
          "base_uri": "https://localhost:8080/"
        },
        "id": "SdOZZhbsUokD",
        "outputId": "8d6712a9-4649-41be-9478-4fbf837a0a1a"
      },
      "execution_count": 9,
      "outputs": [
        {
          "output_type": "stream",
          "name": "stdout",
          "text": [
            "Musicas lançadas em 2024 mais ouvidas:\n",
            "+--------------+-----------------+---------------------+\n",
            "|Track         |Artist           |Total Spotify Streams|\n",
            "+--------------+-----------------+---------------------+\n",
            "|In the End    |Linkin Park      |2045512421           |\n",
            "|Espresso      |Sabrina Carpenter|1621855787           |\n",
            "|Calm Down Baby|DJ Laxman        |1389772733           |\n",
            "|Stand by Me   |Ben King         |1094052047           |\n",
            "|Too Sweet     |Hozier           |1064025580           |\n",
            "+--------------+-----------------+---------------------+\n",
            "\n",
            "Musicas lançadas em 2023 mais ouvidas:\n",
            "+--------------------+---------------------+---------------------+\n",
            "|Track               |Artist               |Total Spotify Streams|\n",
            "+--------------------+---------------------+---------------------+\n",
            "|Flowers             |Miley Cyrus          |6072983905           |\n",
            "|greedy              |Tate McRae           |3770773204           |\n",
            "|Danza Kuduro - Cover|WORK OUT GYM - DJ MIX|3284517000           |\n",
            "|Paint The Town Red  |Doja Cat             |2130798662           |\n",
            "|vampire             |Olivia Rodrigo       |1996500713           |\n",
            "+--------------------+---------------------+---------------------+\n",
            "\n",
            "Musicas lançadas em 2022 mais ouvidas:\n",
            "+---------------+---------------+---------------------+\n",
            "|Track          |Artist         |Total Spotify Streams|\n",
            "+---------------+---------------+---------------------+\n",
            "|Bad Habit      |Steve Lacy     |2175140141           |\n",
            "|SNAP           |Rosa Linn      |2072791229           |\n",
            "|Kill Bill      |SZA            |1873746537           |\n",
            "|Me Porto Bonito|Bad Bunny      |1811990630           |\n",
            "|Me Porto Bonito|Renzo Pianciola|1797039538           |\n",
            "+---------------+---------------+---------------------+\n",
            "\n",
            "Musicas lançadas em 2021 mais ouvidas:\n",
            "+---------------------------------+-----------+---------------------+\n",
            "|Track                            |Artist     |Total Spotify Streams|\n",
            "+---------------------------------+-----------+---------------------+\n",
            "|INDUSTRY BABY (feat. Jack Harlow)|Lil Nas X  |4029919450           |\n",
            "|MONTERO (Call Me By Your Name)   |Lil Nas X  |3804482628           |\n",
            "|Kiss Me More (feat. SZA)         |Doja Cat   |3647743816           |\n",
            "|Sunroof                          |Nicky Youre|1770461338           |\n",
            "|Easy On Me                       |Adele      |1720918065           |\n",
            "+---------------------------------+-----------+---------------------+\n",
            "\n",
            "Musicas lançadas em 2020 mais ouvidas:\n",
            "+-------------------------+----------+---------------------+\n",
            "|Track                    |Artist    |Total Spotify Streams|\n",
            "+-------------------------+----------+---------------------+\n",
            "|Save Your Tears          |The Weeknd|3991023904           |\n",
            "|Levitating (feat. DaBaby)|Dua Lipa  |2074721986           |\n",
            "|Dakiti                   |Bad Bunny |1977947460           |\n",
            "|Dynamite                 |BTS       |1872577908           |\n",
            "|Mood (feat. iann dior)   |24kGoldn  |1867736006           |\n",
            "+-------------------------+----------+---------------------+\n",
            "\n"
          ]
        }
      ]
    },
    {
      "cell_type": "markdown",
      "source": [
        "**Compara o total de streams e visualizações de três artistas (Bad Bunny, Taylor Swift e The Weeknd) nas plataformas Spotify, YouTube e TikTok. E cria um grafico para exebir os resultados**"
      ],
      "metadata": {
        "id": "oB_YxCk8cXFa"
      }
    },
    {
      "cell_type": "code",
      "source": [
        "from pyspark.sql import functions as F\n",
        "import matplotlib.pyplot as plt\n",
        "\n",
        "artistas = [\"Bad Bunny\", \"Taylor Swift\", \"The Weeknd\"]\n",
        "cores = ['#4169E1', '#FF69B4', '#FF0000']\n",
        "platforms = ['Spotify Streams', 'YouTube Views', 'TikTok Views']\n",
        "\n",
        "def obter_totais(artista):\n",
        "    dados = dataframe.filter(F.col(\"Artist\") == artista).agg(\n",
        "        *[F.sum(plataforma).alias(f\"Total {plataforma}\") for plataforma in platforms]\n",
        "    ).collect()[0]\n",
        "    return [dados[f\"Total {plataforma}\"] or 0 for plataforma in platforms]\n",
        "\n",
        "totais = [obter_totais(artista) for artista in artistas]\n",
        "\n",
        "plt.figure(figsize=(12, 6))\n",
        "x = range(len(platforms))\n",
        "width = 0.25\n",
        "\n",
        "for i, (total, cor) in enumerate(zip(totais, cores)):\n",
        "    plt.bar([p + width * (i - 1) for p in x], total, width=width, color=cor, label=artistas[i])\n",
        "\n",
        "plt.ylabel('Número de Views/Streams')\n",
        "plt.title(f'Comparação de Views: {\", \".join(artistas)}')\n",
        "plt.xticks(x, platforms)\n",
        "plt.legend()\n",
        "plt.tight_layout()\n",
        "plt.show()\n"
      ],
      "metadata": {
        "colab": {
          "base_uri": "https://localhost:8080/",
          "height": 595
        },
        "id": "NecESBohWN6n",
        "outputId": "02688826-b222-4f23-fa98-ffa7e09eda21"
      },
      "execution_count": 10,
      "outputs": [
        {
          "output_type": "display_data",
          "data": {
            "text/plain": [
              "<Figure size 1200x600 with 1 Axes>"
            ],
            "image/png": "[encoded data removed]"
          },
          "metadata": {}
        }
      ]
    },
    {
      "cell_type": "markdown",
      "source": [
        "**Gera um gráfico de pizza que ilustra a distribuição das visualizações de Taylor Swift nas plataformas Spotify, YouTube e TikTok. O código filtra os dados do DataFrame para obter as visualizações do artista, tratando valores nulos como zero, e plota um gráfico de pizza com porcentagens e cores específicas para cada plataforma, destacando a comparação visual entre elas.**"
      ],
      "metadata": {
        "id": "fyI6RmGCdUWc"
      }
    },
    {
      "cell_type": "code",
      "source": [
        "import matplotlib.pyplot as plt\n",
        "from pyspark.sql import functions as F\n",
        "\n",
        "artist_name = 'Taylor Swift'\n",
        "\n",
        "artist_data = dataframe.filter(F.col(\"Artist\") == artist_name).select(\n",
        "    \"Spotify Streams\", \"YouTube Views\", \"TikTok Views\"\n",
        ").first()\n",
        "\n",
        "values = [artist_data[i] if artist_data[i] is not None else 0 for i in range(3)]\n",
        "\n",
        "\n",
        "plt.figure(figsize=(8, 8))\n",
        "plt.pie(values, labels=['Spotify', 'YouTube', 'TikTok'], autopct='%1.1f%%', startangle=90, colors=['Green', 'Red', 'Blue'])\n",
        "plt.axis('equal')\n",
        "plt.title(f'Comparação de Views do {artist_name} nas Plataformas')\n",
        "plt.show()\n"
      ],
      "metadata": {
        "colab": {
          "base_uri": "https://localhost:8080/",
          "height": 675
        },
        "id": "tPZuUnAAWTyx",
        "outputId": "07ccdfe5-efa0-451a-9f14-70c215f1cc79"
      },
      "execution_count": 11,
      "outputs": [
        {
          "output_type": "display_data",
          "data": {
            "text/plain": [
              "<Figure size 800x800 with 1 Axes>"
            ],
            "image/png": "[encoded data removed]"
          },
          "metadata": {}
        }
      ]
    }
  ]
}